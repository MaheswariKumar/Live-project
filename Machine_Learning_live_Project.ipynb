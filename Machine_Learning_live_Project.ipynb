{
  "nbformat": 4,
  "nbformat_minor": 0,
  "metadata": {
    "colab": {
      "name": "Machine Learning  live Project.ipynb",
      "provenance": [],
      "collapsed_sections": [],
      "authorship_tag": "ABX9TyPvmP86YojF8u1YyL5WqcSP",
      "include_colab_link": true
    },
    "kernelspec": {
      "name": "python3",
      "display_name": "Python 3"
    }
  },
  "cells": [
    {
      "cell_type": "markdown",
      "metadata": {
        "id": "view-in-github",
        "colab_type": "text"
      },
      "source": [
        "<a href=\"https://colab.research.google.com/github/MaheswariKumar/Live-project/blob/main/Machine_Learning_live_Project.ipynb\" target=\"_parent\"><img src=\"https://colab.research.google.com/assets/colab-badge.svg\" alt=\"Open In Colab\"/></a>"
      ]
    },
    {
      "cell_type": "code",
      "metadata": {
        "id": "J6a3Zkm7gD03"
      },
      "source": [
        "import pandas as pd\r\n",
        "import numpy as np\r\n",
        "from sklearn import model_selection\r\n",
        "from sklearn.linear_model import LinearRegression\r\n",
        "import matplotlib.pyplot as plt\r\n",
        "\r\n",
        "#Importing and reading file using pandas\r\n",
        "df = pd.read_csv('lrdata.csv')\r\n",
        "df.head()\r\n",
        "\r\n",
        "#Using multi linear regression as the values are continuous where x are independent\r\n",
        "#values and y : dependent values\r\n",
        "y = df['time']\r\n",
        "x = df[['cases','increasingrate','decreasingrate']]\r\n",
        "\r\n",
        "#Function named CasesReg for using linear regression model and training the model\r\n",
        "#with given values\r\n",
        "def CasesReg(x,y):\r\n",
        "  from sklearn.linear_model import LinearRegression\r\n",
        "  reg = LinearRegression()\r\n",
        "  reg.fit(x,y)\r\n",
        "  return reg\r\n",
        "\r\n",
        "\r\n",
        "#train_test_split is a function in Sklearn model selection for splitting data \r\n",
        "#arrays into two subsets: for training data and for testing data. \r\n",
        "#With this function, you don't need to divide the dataset manually.\r\n",
        "x_train, x_test, y_train, y_test = model_selection.train_test_split(x,y)\r\n",
        "\r\n",
        "#Passing training data to my Linear regression model\r\n",
        "reg = CasesReg(x_train,y_train)\r\n",
        "\r\n",
        "#Using predict to get predicted values of y\r\n",
        "y_pred = reg.predict(x_test)\r\n",
        "y_pred\r\n",
        "\r\n",
        "#Calculating efficiency. It internally calculates y_pred again and gives the \r\n",
        "#efficiency\r\n",
        "reg.score(x_test,y_test)\r\n",
        "\r\n",
        "#Plotting graph using matplotlib.\r\n",
        "plt.plot(x,reg.predict(x),'*')\r\n",
        "plt.legend(labels=['cases','increasingrate','decreasingrate'])\r\n",
        "plt.xlabel(\"Cases Rate\")\r\n",
        "plt.ylabel(\"Time\")\r\n",
        "plt.show()"
      ],
      "execution_count": null,
      "outputs": []
    }
  ]
}